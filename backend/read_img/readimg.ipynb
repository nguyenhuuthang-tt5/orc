{
 "cells": [
  {
   "cell_type": "code",
   "execution_count": 22,
   "metadata": {},
   "outputs": [],
   "source": [
    "import io\n",
    "from google.cloud import vision\n",
    "from google.cloud.vision_v1 import types\n",
    "import os\n",
    "import pathlib\n",
    "import unidecode\n",
    "import re\n",
    "import pandas as pd\n",
    "import argparse\n",
    "from enum import Enum\n",
    "from PIL import Image, ImageDraw\n",
    "import io"
   ]
  },
  {
   "cell_type": "code",
   "execution_count": 23,
   "metadata": {},
   "outputs": [],
   "source": [
    "def get_hospital_name(str_list: list, hos_dict: dict, res_string_list: list):\n",
    "    result = ''\n",
    "    length = 0\n",
    "    for string in str_list:\n",
    "        for k, v in hos_dict.items():\n",
    "            if length <= len(str(string)) and 'BENH VIEN' in string:\n",
    "                if string in k  or k in string:\n",
    "                    result = v\n",
    "                    length = len(string)\n",
    "    return result\n",
    "\n",
    "def get_patient_age(str_list:list,  res_string_list: list):\n",
    "    regex = r'\\b(TUO?I?|AGE)\\s*\\:?\\s*\\d+\\b'\n",
    "    tuoi = -1\n",
    "    for string in str_list:\n",
    "        if(re.search(regex, string=string)):\n",
    "            tuoi = [int(s) for s in string.split() if s.isdigit()][0]\n",
    "    return tuoi\n",
    "            \n",
    "def get_medicine(str_list: list, thuoc_df: pd.DataFrame, res_string_list: list):\n",
    "\n",
    "    medicine_list = list()\n",
    "    str_dict = dict(zip(res_string_list, str_list))\n",
    "    active = list(thuoc_df['HOAT_CHAT'].apply(lambda x: r'\\b(' + '|'.join([re.escape(x2) for x2 in str(x).split('+')]) + r')\\d*(mg)*\\b'))\n",
    "    \n",
    "    for k, v in str_dict.items():\n",
    "        name = list(thuoc_df['TEN_THUOC'].apply(lambda x: re.search(pattern=r'\\b' + x + r'\\b', string=v, flags=re.IGNORECASE)).dropna())\n",
    "        if len(name) > 0 :\n",
    "            medicine_list.append(k)\n",
    "        else:\n",
    "            for reg in active:\n",
    "                if re.search(reg, v, re.IGNORECASE):\n",
    "                    medicine_list.append(k)\n",
    "                    break\n",
    "    return medicine_list\n",
    "\n",
    "\n",
    "def get_gender(str_list: list, res_string_list: list):\n",
    "    regex = r'\\b(GIOI TINH|GENDER)\\s*\\:?\\s*(NAM|NU|MALE|FEMALE)\\b'\n",
    "    regex2 = r'\\bG?iới tính?\\b|Nữ|Nam'\n",
    "    gender = ''\n",
    "    for string in str_list:\n",
    "        if(re.search(regex, string=string)):\n",
    "            gender = string.strip()\n",
    "    if gender == '':\n",
    "        for string in res_string_list:\n",
    "            if re.search(regex2, string=string):\n",
    "                gender = string\n",
    "    return gender.strip()\n",
    "\n",
    "def get_diagnose(para_list:list, res_para_list: list):\n",
    "\n",
    "    dict1 = dict(zip(res_para_list, para_list))\n",
    "    regex = r'\\bCHAN DOA?N?\\s*\\:?\\s*\\w+\\b'\n",
    "    chandoan = ''\n",
    "    \n",
    "    for k, v in dict1.items():\n",
    "        if(re.search(regex, string=v)):\n",
    "            chandoan = k\n",
    "            break\n",
    "    return re.sub(r'^.*?:', '', chandoan).strip()\n",
    "def get_text_by_block(response):\n",
    "    document = response.full_text_annotation\n",
    "    texts = []\n",
    "    # Collect specified feature bounds by enumerating all document features\n",
    "    for page in document.pages:\n",
    "        for block in page.blocks:\n",
    "            for paragraph in block.paragraphs:\n",
    "                text = ''\n",
    "                for word in paragraph.words:\n",
    "                    for symbol in word.symbols:\n",
    "                        text += symbol.text \n",
    "                    text += ' '\n",
    "                text = re.sub(r'\\s([.:;)])', r'\\1', text)\n",
    "                text = re.sub(r'([(-])\\s', r'\\1', text)\n",
    "                texts.append(text.strip())\n",
    "    return texts\n"
   ]
  },
  {
   "cell_type": "code",
   "execution_count": 24,
   "metadata": {},
   "outputs": [],
   "source": [
    "FOLDER_ROOT = str(pathlib.Path().absolute())\n",
    "os.environ[\"GOOGLE_APPLICATION_CREDENTIALS\"]= FOLDER_ROOT + r\"\\resource\\client-key\\client-key.json\"\n",
    "FILE_NAME = r'isulin.jpg'\n",
    "FOLDER_IMAGE_PATH = FOLDER_ROOT + r'\\resource\\img'\n",
    "\n",
    "with io.open(os.path.join(FOLDER_IMAGE_PATH, FILE_NAME), 'rb') as image_file:\n",
    "    content = image_file.read()\n",
    "\n",
    "image = types.Image(content=content)\n",
    "client = vision.ImageAnnotatorClient()\n",
    "response = client.text_detection(image=image)\n",
    "\n",
    "res_para_list= get_text_by_block(response)\n",
    "para_list = tuple(unidecode.unidecode(string.strip()).upper() for string in res_para_list)\n",
    "\n",
    "res_string_list = tuple(string.strip() for string in response.text_annotations[0].description.split('\\n'))\n",
    "str_list = tuple(unidecode.unidecode(string.strip()) for string in res_string_list)\n",
    "\n",
    "# Handle medicine dataframe\n",
    "thuoc_df = pd.read_excel(FOLDER_ROOT + r'\\resource\\keyword\\danh-muc-thuoc-benh-vien-dai-hoc-y-duoc-hue.xlsx', header=None)\n",
    "thuoc_df = thuoc_df.dropna(how='all').dropna(how='all', axis=1)\n",
    "headers = thuoc_df.iloc[0]\n",
    "thuoc_df = pd.DataFrame(thuoc_df.values[1:], columns=headers)\n",
    "# Handle hopital dataframe\n",
    "bv_df = pd.read_excel(FOLDER_ROOT + r'\\resource\\keyword\\List Bệnh viện ở Việt Nam (fill).xlsx')\n",
    "bv_df = bv_df.loc[:, ~bv_df.columns.str.contains('^Unnamed')]\n",
    "normalize_bv = bv_df.iloc[:, 0].apply(lambda x: unidecode.unidecode(str(x).upper()))\n",
    "hopital_dict= dict(zip(normalize_bv, bv_df.iloc[:, 0].apply(lambda x: re.sub(u'\\xa0', ' ', x).strip())))\n"
   ]
  },
  {
   "cell_type": "code",
   "execution_count": 25,
   "metadata": {},
   "outputs": [
    {
     "name": "stdout",
     "output_type": "stream",
     "text": [
      "Bệnh viện: Bệnh viện Nội Tiết Nghệ An\n",
      "Tuổi: -1\n",
      "Giới tính:  Nữ\n",
      "Chẩn đoán:  E11.4 † -Bệnh đái tháo đường không phụ thuộc insuline (Có biến chứng thần kinh); I10 -Bệnh Tăng huyết áp vô căn (nguyên phát); E89.0 -Suy giáp sau điều trị (PT); I20 -Cơn đau thắt\n",
      "Danh sách thuốc:\n",
      "Mixtard 30 1000IU/10ml\n",
      "Metformin (Glucophage XR Tab 30's) 750mg\n",
      "Perindopril(Coversyl Tab 5mg 30's) 5 mg\n",
      "Metoprolol(Egilok) 25mg\n"
     ]
    }
   ],
   "source": [
    "hospital_name = get_hospital_name(str_list, hopital_dict, res_string_list)\n",
    "patient_age = get_patient_age(str_list=str_list, res_string_list=res_string_list)\n",
    "medicine_list = get_medicine(str_list=str_list, thuoc_df=thuoc_df, res_string_list=res_string_list)\n",
    "gender = get_gender(str_list=str_list, res_string_list=res_string_list)\n",
    "diagnose = get_diagnose(para_list=para_list, res_para_list=res_para_list)\n",
    "\n",
    "print(\"Bệnh viện:\", hospital_name)\n",
    "print(\"Tuổi:\", patient_age)\n",
    "print(\"Giới tính: \", gender.capitalize())\n",
    "print(\"Chẩn đoán: \", diagnose)\n",
    "print(\"Danh sách thuốc:\")\n",
    "\n",
    "for m in medicine_list:\n",
    "    print(m)\n"
   ]
  },
  {
   "cell_type": "code",
   "execution_count": null,
   "metadata": {},
   "outputs": [],
   "source": [
    "\n"
   ]
  }
 ],
 "metadata": {
  "kernelspec": {
   "display_name": "Python 3.10.5 64-bit",
   "language": "python",
   "name": "python3"
  },
  "language_info": {
   "codemirror_mode": {
    "name": "ipython",
    "version": 3
   },
   "file_extension": ".py",
   "mimetype": "text/x-python",
   "name": "python",
   "nbconvert_exporter": "python",
   "pygments_lexer": "ipython3",
   "version": "3.10.5"
  },
  "orig_nbformat": 4,
  "vscode": {
   "interpreter": {
    "hash": "369f2c481f4da34e4445cda3fffd2e751bd1c4d706f27375911949ba6bb62e1c"
   }
  }
 },
 "nbformat": 4,
 "nbformat_minor": 2
}
